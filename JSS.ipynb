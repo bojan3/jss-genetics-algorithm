{
 "cells": [
  {
   "cell_type": "code",
   "execution_count": 101,
   "id": "52e0ed01",
   "metadata": {},
   "outputs": [],
   "source": [
    "import pandas as pd\n",
    "import numpy as np\n",
    "import matplotlib.pyplot as plt\n",
    "import math\n",
    "import random\n",
    "import time"
   ]
  },
  {
   "cell_type": "code",
   "execution_count": 102,
   "id": "9639be97",
   "metadata": {},
   "outputs": [],
   "source": [
    "class Machine:\n",
    "    def __init__(self, name, operations):\n",
    "        self.operations = operations\n",
    "        self.name = name\n",
    "    \n",
    "class Operation:\n",
    "    \n",
    "    def __init__(self, name, duration, machine_name):\n",
    "        self.name = name\n",
    "        self.duration = duration\n",
    "        self.machine_name = machine_name\n",
    "        \n",
    "class Job:\n",
    "    def __init__(self, number, name, operations):\n",
    "        self.number = number\n",
    "        self.name = name\n",
    "        self.operations = operations\n",
    "        "
   ]
  },
  {
   "cell_type": "code",
   "execution_count": 103,
   "id": "1d3ce73b",
   "metadata": {},
   "outputs": [],
   "source": [
    "j1 = Job(0, 'j0', [ Operation('o11',10, 'm1'), \n",
    "                Operation('o12',15, 'm2'),\n",
    "                Operation('o13',10, 'm3'),\n",
    "                Operation('o14',20, 'm1'),\n",
    "                Operation('o15',15, 'm3')\n",
    "               ])\n",
    "\n",
    "j2 = Job(1, 'j1', [ Operation('o21',10, 'm3'), \n",
    "                Operation('o22',20, 'm1'),\n",
    "                Operation('o23',20, 'm3'),\n",
    "                Operation('o24',10, 'm1')\n",
    "               ])\n",
    "\n",
    "j3 = Job(2, 'j2', [ Operation('o31',15, 'm2'), \n",
    "                Operation('o32',10, 'm3'),\n",
    "               ])\n",
    "\n",
    "j4 = Job(3, 'j3', [ Operation('o11',10, 'm4'), \n",
    "                Operation('o12',30, 'm2'),\n",
    "                Operation('o13',10, 'm3'),\n",
    "                Operation('o14',5, 'm2'),\n",
    "                Operation('o15',15, 'm1')\n",
    "               ])\n",
    "\n",
    "j5 = Job(4, 'j4', [ Operation('o11', 25, 'm1'), \n",
    "                Operation('o12',10, 'm4'),\n",
    "                Operation('o13',20, 'm2'),\n",
    "                Operation('o14',5, 'm3'),\n",
    "                Operation('o15',30, 'm1'),\n",
    "                Operation('o15',15, 'm4')\n",
    "               ])\n",
    "\n",
    "jobs = [j1, j2, j3, j4, j5]\n",
    "n = len(jobs)\n",
    "m = 4"
   ]
  },
  {
   "cell_type": "code",
   "execution_count": 104,
   "id": "5904ff9e",
   "metadata": {},
   "outputs": [],
   "source": [
    "def init_population(jobs, population_size):\n",
    "    \n",
    "    chromosome = []\n",
    "    chromosomes = []\n",
    "    \n",
    "    for job in jobs:\n",
    "        for operation in job.operations:\n",
    "            chromosome.append(job.number)\n",
    "    \n",
    "    for i in range(population_size):\n",
    "        c = chromosome.copy()\n",
    "        random.shuffle(c)\n",
    "        chromosomes.append(c)\n",
    "        \n",
    "    return chromosomes\n",
    "        \n",
    "    \n",
    "#     first = 0\n",
    "#     population = []\n",
    "#     for first_job in range(0, len(jobs)):\n",
    "#         solution = []\n",
    "#         for j in range(first_job, len(jobs)):\n",
    "#             for operation in jobs[j].operations:\n",
    "#                 solution.append(jobs[j].number)\n",
    "#         for j in range(0, first_job):\n",
    "#             for operation in jobs[j].operations:\n",
    "#                 solution.append(jobs[j].number)\n",
    "#         population.append(solution)\n",
    "#     return population\n",
    "\n",
    "\n",
    "# print(init_population())\n",
    "# population = init_population()\n",
    "\n",
    "\n",
    "def cost_function(chromosome):\n",
    "    \n",
    "    machines_time = {\n",
    "    }\n",
    "\n",
    "    machines_operations = {\n",
    "    }\n",
    "\n",
    "    for i in range(m):\n",
    "        machines_time[f'm{i+1}'] = 0\n",
    "        machines_operations[f'm{i+1}'] = []\n",
    "\n",
    "    jobs_time_passed = n * [0]\n",
    "\n",
    "    operation_counter = n * [0]\n",
    "    \n",
    "    for i in range(len(chromosome)):\n",
    "        job_index = chromosome[i]\n",
    "        job = jobs[job_index]\n",
    "        operation = job.operations[operation_counter[job_index]]\n",
    "        machine_name = operation.machine_name\n",
    "        \n",
    "        #dodajemo prazno ako je masina radila krace od trajanja posla do te operacije\n",
    "        if machines_time[machine_name] < jobs_time_passed[job_index]:\n",
    "            diff = jobs_time_passed[job_index] - machines_time[machine_name]\n",
    "            machines_operations[machine_name].append(Operation('blank', diff, machine_name))\n",
    "            machines_time[machine_name] += diff\n",
    "            \n",
    "            \n",
    "        machines_operations[machine_name].append(operation)\n",
    "        machines_time[operation.machine_name] += operation.duration\n",
    "        jobs_time_passed[job_index] = machines_time[machine_name]\n",
    "        \n",
    "        operation_counter[job_index] += 1\n",
    "    \n",
    "    return max(machines_time.values())\n",
    "    \n",
    "\n",
    "def sort_parents(population):\n",
    "    \n",
    "    costs = []\n",
    "    \n",
    "    for i in range(len(population)):\n",
    "        costs.append(cost_function(population[i]))\n",
    "    \n",
    "    ranked = sorted( list(zip(population,costs)), key = lambda c:c[1])\n",
    "    \n",
    "    return list(zip(*ranked))\n",
    "    \n",
    "def roulette_selection(parents):\n",
    "    \n",
    "    pairs = []\n",
    "    \n",
    "    for i in range(0, len(parents), 2):\n",
    "        \n",
    "        weights = []\n",
    "        \n",
    "        for i in range(len(parents)):\n",
    "            weights.append((len(parents)-i)*random.random())\n",
    "        \n",
    "        if (weights[0]>=weights[1]):\n",
    "            maxInd1=0\n",
    "            maxInd2=1\n",
    "        else:\n",
    "            maxInd1=1\n",
    "            maxInd2=0\n",
    "    \n",
    "        for i in range(2,len(parents)):\n",
    "            if weights[i]>weights[maxInd1]:\n",
    "                maxInd2=maxInd1\n",
    "                maxInd1=i\n",
    "            elif weights[i]>weights[maxInd2]:\n",
    "                maxInd2=1\n",
    "\n",
    "        pairs.append([parents[maxInd1], parents[maxInd2]])\n",
    "      \n",
    "    return pairs\n",
    "    "
   ]
  },
  {
   "cell_type": "code",
   "execution_count": 105,
   "id": "f7607627",
   "metadata": {},
   "outputs": [
    {
     "data": {
      "text/plain": [
       "[[2, 0, 1, 4, 3, 1, 4, 3, 0, 0, 4, 0, 3, 0, 1, 4, 3, 1, 4, 2, 4, 3],\n",
       " [4, 0, 1, 4, 4, 0, 3, 1, 0, 1, 4, 3, 3, 3, 4, 3, 2, 2, 0, 4, 0, 1],\n",
       " [1, 4, 4, 4, 3, 4, 4, 2, 0, 0, 0, 2, 3, 1, 0, 3, 4, 0, 1, 1, 3, 3],\n",
       " [3, 3, 4, 1, 3, 0, 2, 1, 4, 4, 1, 4, 0, 3, 3, 4, 4, 0, 0, 1, 0, 2],\n",
       " [0, 1, 3, 1, 4, 2, 4, 3, 0, 0, 0, 2, 1, 3, 3, 0, 4, 4, 3, 1, 4, 4],\n",
       " [3, 3, 1, 0, 0, 2, 4, 1, 1, 4, 0, 1, 4, 0, 3, 2, 3, 0, 3, 4, 4, 4],\n",
       " [4, 3, 4, 3, 3, 3, 4, 1, 4, 0, 0, 2, 3, 0, 4, 1, 0, 1, 0, 2, 4, 1],\n",
       " [3, 1, 2, 3, 4, 4, 0, 2, 1, 0, 0, 4, 3, 3, 4, 4, 0, 4, 3, 0, 1, 1],\n",
       " [0, 1, 3, 4, 3, 1, 4, 1, 0, 2, 0, 4, 0, 3, 1, 4, 2, 0, 3, 3, 4, 4],\n",
       " [0, 4, 3, 3, 2, 4, 1, 0, 0, 0, 4, 1, 1, 3, 0, 3, 1, 4, 4, 3, 4, 2],\n",
       " [0, 3, 4, 4, 0, 1, 3, 0, 0, 1, 2, 4, 4, 3, 3, 2, 4, 3, 0, 1, 1, 4],\n",
       " [1, 4, 4, 1, 0, 0, 4, 3, 3, 4, 0, 4, 0, 2, 1, 0, 1, 3, 3, 4, 2, 3],\n",
       " [4, 0, 4, 3, 3, 0, 2, 1, 3, 3, 4, 1, 4, 0, 1, 0, 3, 1, 4, 4, 2, 0],\n",
       " [4, 4, 4, 2, 4, 0, 3, 2, 4, 1, 0, 3, 0, 1, 3, 1, 1, 0, 4, 3, 0, 3],\n",
       " [0, 2, 3, 4, 1, 1, 3, 0, 0, 0, 4, 4, 0, 3, 2, 3, 1, 3, 4, 4, 1, 4],\n",
       " [1, 3, 0, 4, 4, 4, 2, 1, 4, 3, 1, 4, 4, 0, 3, 0, 0, 3, 2, 1, 0, 3],\n",
       " [2, 1, 0, 1, 4, 1, 3, 4, 3, 0, 1, 0, 0, 0, 4, 3, 3, 2, 4, 3, 4, 4],\n",
       " [4, 1, 2, 0, 1, 3, 3, 4, 4, 3, 0, 3, 0, 0, 0, 4, 2, 1, 4, 3, 4, 1],\n",
       " [4, 2, 0, 1, 4, 3, 2, 0, 3, 4, 3, 0, 3, 1, 0, 1, 1, 3, 4, 4, 4, 0],\n",
       " [1, 4, 3, 1, 3, 0, 4, 4, 4, 2, 1, 4, 4, 2, 1, 0, 3, 3, 0, 0, 0, 3],\n",
       " [2, 2, 3, 1, 0, 1, 4, 4, 0, 3, 4, 4, 1, 3, 3, 3, 0, 4, 1, 0, 0, 4],\n",
       " [4, 3, 3, 2, 3, 0, 4, 1, 3, 0, 3, 4, 1, 4, 0, 2, 0, 0, 4, 1, 4, 1],\n",
       " [3, 3, 3, 4, 4, 3, 2, 0, 0, 1, 1, 0, 0, 4, 0, 2, 4, 1, 3, 4, 4, 1],\n",
       " [4, 2, 0, 0, 0, 0, 1, 4, 3, 4, 3, 1, 4, 0, 4, 1, 1, 3, 2, 4, 3, 3],\n",
       " [2, 4, 1, 4, 3, 4, 0, 3, 2, 0, 1, 4, 1, 3, 3, 0, 1, 3, 4, 0, 0, 4],\n",
       " [1, 4, 3, 1, 4, 3, 0, 1, 0, 0, 1, 4, 3, 0, 2, 3, 0, 3, 4, 4, 4, 2],\n",
       " [0, 3, 0, 4, 2, 4, 4, 1, 0, 4, 3, 1, 4, 1, 0, 3, 1, 4, 3, 3, 0, 2],\n",
       " [3, 1, 1, 0, 0, 4, 4, 2, 2, 1, 3, 4, 3, 4, 3, 0, 3, 0, 1, 4, 0, 4],\n",
       " [1, 0, 3, 4, 3, 3, 2, 0, 3, 0, 4, 1, 4, 0, 1, 4, 3, 4, 1, 4, 0, 2],\n",
       " [2, 4, 4, 3, 0, 3, 1, 4, 1, 3, 0, 0, 1, 2, 3, 4, 1, 3, 0, 4, 0, 4]]"
      ]
     },
     "execution_count": 105,
     "metadata": {},
     "output_type": "execute_result"
    }
   ],
   "source": [
    "init_population(jobs, 30)"
   ]
  },
  {
   "cell_type": "code",
   "execution_count": 106,
   "id": "e9370760",
   "metadata": {},
   "outputs": [],
   "source": [
    "def crossover(pairs):\n",
    "    \n",
    "    children = []\n",
    "    size = len((pairs[0])[0])\n",
    "    for y in pairs:\n",
    "        \n",
    "        new_solution = y[0][0:math.ceil(size/2)]\n",
    "        \n",
    "        y2 = y[1].copy()\n",
    "        \n",
    "        for i in new_solution:\n",
    "            if i in y2: \n",
    "                y2.remove(i)\n",
    "     \n",
    "        new_solution = new_solution + y2\n",
    "\n",
    "        children.append(new_solution)\n",
    "        \n",
    "        new_solution1 = y[1][0:math.ceil(size/2)]\n",
    "        \n",
    "        y1 = y[0].copy()\n",
    "        \n",
    "        for i in new_solution1:\n",
    "            if i in y1: \n",
    "                y1.remove(i)\n",
    "     \n",
    "        new_solution1 = new_solution1 + y1\n",
    "\n",
    "        children.append(new_solution1)\n",
    "        \n",
    "    return children"
   ]
  },
  {
   "cell_type": "code",
   "execution_count": 107,
   "id": "c23daf4d",
   "metadata": {},
   "outputs": [],
   "source": [
    "def mutation(chromosomes, mutation_rate):\n",
    "    mutated_chromosomes = []\n",
    "    size = len(chromosomes[0])\n",
    "    for chromosome in chromosomes:\n",
    "        chromosome_mutated = chromosome.copy()\n",
    "        if random.random() < mutation_rate:\n",
    "            first_index = random.randint(0, size-1)\n",
    "            second_index = random.randint(0, size-1)\n",
    "            while first_index == second_index:\n",
    "                second_index = random.randint(0, size-1)\n",
    "                \n",
    "            chromosome_mutated[first_index], chromosome_mutated[second_index] = chromosome_mutated[second_index], chromosome_mutated[first_index]\n",
    "            \n",
    "        mutated_chromosomes.append(chromosome_mutated) \n",
    "            \n",
    "    return mutated_chromosomes\n",
    "\n",
    "def elitism(chromosomes_old, chromosomes_new, elitis_rate, population_size):\n",
    "    old_ind_size = int(np.round(population_size*elitis_rate))\n",
    "    return chromosomes_old[:old_ind_size] + chromosomes_new[:(population_size-old_ind_size)]"
   ]
  },
  {
   "cell_type": "code",
   "execution_count": 108,
   "id": "dad284da",
   "metadata": {},
   "outputs": [],
   "source": [
    "def jss(max_iter, jobs, mutation_rate, elitism_rate, population_size):\n",
    "    chromosomes = init_population(jobs, population_size)\n",
    "    init_ranked_parents, init_costs = sort_parents(chromosomes)\n",
    "    for i in range(max_iter):\n",
    "        ranked_parents, costs = sort_parents(chromosomes)\n",
    "        pairs = roulette_selection(ranked_parents)\n",
    "        children = crossover(pairs)\n",
    "        chromosomes = mutation(children, mutation_rate)\n",
    "        ranked_children, costs = sort_parents(chromosomes)\n",
    "        chromosomes = elitism(ranked_parents, ranked_children, elitism_rate, population_size)\n",
    "    final_ranked_parents, final_costs = sort_parents(chromosomes)\n",
    "    return init_ranked_parents, init_costs, final_ranked_parents, final_costs"
   ]
  },
  {
   "cell_type": "code",
   "execution_count": 114,
   "id": "7d679aa6",
   "metadata": {
    "scrolled": true
   },
   "outputs": [],
   "source": [
    "def start(population_size, generations, mutation_rate, elitism_rate, iterations):\n",
    "    init_best_costs = []\n",
    "    final_best_costs = []\n",
    "    for i in range(iterations):\n",
    "        init_ranked_parents, init_costs, final_ranked_parents, final_costs = jss(generations, jobs, mutation_rate, elitism_rate, population_size)\n",
    "        init_best_costs.append(init_costs[0])\n",
    "        final_best_costs.append(final_costs[0])\n",
    "\n",
    "    optimal = min(final_best_costs)\n",
    "    optimal_count = final_best_costs.count(optimal)\n",
    "    print('Optimalno vreme:', optimal, ', Procenat od ukupnog broja iteracija: ', optimal_count/iterations * 100, '%')\n",
    "    plt.plot(init_best_costs)\n",
    "    plt.plot(final_best_costs)\n",
    "    plt.legend(['init', 'final'])\n",
    "    plt.title('Pocetna i zavrsna najbolja resenja kroz 50 iteracija')\n",
    "    plt.xlabel('Iteracije')\n",
    "    plt.ylabel('Trajanje')"
   ]
  },
  {
   "cell_type": "code",
   "execution_count": 119,
   "id": "fdf0faa4",
   "metadata": {},
   "outputs": [
    {
     "name": "stdout",
     "output_type": "stream",
     "text": [
      "Optimalno vreme: 130 , Procenat od ukupnog broja iteracija:  38.0 %\n",
      "Vreme:  0.45 s\n"
     ]
    },
    {
     "data": {
      "image/png": "[encoded data removed]",
      "text/plain": [
       "<Figure size 432x288 with 1 Axes>"
      ]
     },
     "metadata": {
      "needs_background": "light"
     },
     "output_type": "display_data"
    }
   ],
   "source": [
    "generations = 15\n",
    "mutation_rate = 0.9\n",
    "elitism_rate = 0.1\n",
    "population_size = 10\n",
    "iterations = 50\n",
    "\n",
    "start_time = time.time()\n",
    "start(population_size, generations, mutation_rate, elitism_rate, iterations)\n",
    "end_time = time.time()\n",
    "print('Vreme: ', round(end_time - start_time, 2), 's')"
   ]
  },
  {
   "cell_type": "code",
   "execution_count": 118,
   "id": "23c04b34",
   "metadata": {
    "scrolled": true
   },
   "outputs": [
    {
     "name": "stdout",
     "output_type": "stream",
     "text": [
      "Optimalno vreme: 130 , Procenat od ukupnog broja iteracija:  82.0 %\n",
      "Vreme:  4.01 s\n"
     ]
    },
    {
     "data": {
      "image/png": "[encoded data removed]",
      "text/plain": [
       "<Figure size 432x288 with 1 Axes>"
      ]
     },
     "metadata": {
      "needs_background": "light"
     },
     "output_type": "display_data"
    }
   ],
   "source": [
    "generations = 50\n",
    "mutation_rate = 0.9\n",
    "elitism_rate = 0.1\n",
    "population_size = 30\n",
    "iterations = 50\n",
    "\n",
    "start_time = time.time()\n",
    "start(population_size, generations, mutation_rate, elitism_rate, iterations)\n",
    "end_time = time.time()\n",
    "print('Vreme: ', round(end_time - start_time, 2), 's')"
   ]
  },
  {
   "cell_type": "code",
   "execution_count": null,
   "id": "255d2d41",
   "metadata": {},
   "outputs": [],
   "source": []
  },
  {
   "cell_type": "code",
   "execution_count": null,
   "id": "eac66ec7",
   "metadata": {},
   "outputs": [],
   "source": []
  },
  {
   "cell_type": "code",
   "execution_count": null,
   "id": "b96d530a",
   "metadata": {},
   "outputs": [],
   "source": []
  }
 ],
 "metadata": {
  "kernelspec": {
   "display_name": "Python 3 (ipykernel)",
   "language": "python",
   "name": "python3"
  },
  "language_info": {
   "codemirror_mode": {
    "name": "ipython",
    "version": 3
   },
   "file_extension": ".py",
   "mimetype": "text/x-python",
   "name": "python",
   "nbconvert_exporter": "python",
   "pygments_lexer": "ipython3",
   "version": "3.9.7"
  }
 },
 "nbformat": 4,
 "nbformat_minor": 5
}
